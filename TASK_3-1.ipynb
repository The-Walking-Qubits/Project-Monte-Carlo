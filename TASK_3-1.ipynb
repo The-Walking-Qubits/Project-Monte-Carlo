{
 "cells": [
  {
   "cell_type": "markdown",
   "id": "552f1d97",
   "metadata": {},
   "source": [
    "Importing Required Libraries"
   ]
  },
  {
   "cell_type": "code",
   "execution_count": 1,
   "id": "c6d2c7b3",
   "metadata": {},
   "outputs": [],
   "source": [
    "from qiskit import QuantumCircuit, QuantumRegister, ClassicalRegister, transpile\n",
    "from qiskit.circuit.library import CSwapGate\n",
    "from qiskit_aer import AerSimulator\n",
    "from qiskit.visualization import plot_histogram\n",
    "import matplotlib.pyplot as plt\n",
    "from collections import Counter\n",
    "from qiskit.circuit import Reset\n",
    "import numpy as np\n",
    "%matplotlib inline"
   ]
  },
  {
   "cell_type": "markdown",
   "id": "a18e278d",
   "metadata": {},
   "source": [
    "This function generate_theta_list, prepares the list of rotation angles (theta values) for our quantum board.\n",
    "\n",
    "In \"walk\" mode, each peg has the same fixed rotation.\n",
    "\n",
    "In \"exp\" mode, the probability of moving changes exponentially based on a lambda factor (lam), creating a distribution that mimics a biased Galton Board.\n",
    "\n",
    "These theta values are critical for controlling the ancilla qubit's rotation before swaps."
   ]
  },
  {
   "cell_type": "code",
   "execution_count": 2,
   "id": "b37c804f",
   "metadata": {},
   "outputs": [],
   "source": [
    "def generate_theta_list(mode, n_levels, lam=2.0):\n",
    "    total_pegs = (n_levels * (n_levels + 1)) // 2\n",
    "    if mode == \"walk\":\n",
    "        return [np.pi / 2] * total_pegs\n",
    "    elif mode == \"exp\":\n",
    "        thetas = []\n",
    "        for level in range(n_levels):\n",
    "            for _ in range(level + 1):\n",
    "                p = 1 - np.exp(-lam * (level + 1))\n",
    "                p = np.clip(p, 0.001, 0.9999)  \n",
    "                theta = 2 * np.arccos(np.sqrt(p))\n",
    "                thetas.append(theta)\n",
    "        return thetas"
   ]
  },
  {
   "cell_type": "markdown",
   "id": "cd43ec84",
   "metadata": {},
   "source": [
    "The build_exponential_qgb_explicit function constructs the full quantum circuit for the Galton Board.\n",
    "\n",
    "Registers: One ancilla qubit (a), main qubits representing positions (q), and classical bits (c) for measurement.\n",
    "\n",
    "The circuit initializes the middle qubit as the starting ball position.\n",
    "\n",
    "For each \"level\" of the board, the ancilla qubit is rotated and swapped with position qubits according to the theta list, simulating peg collisions.\n",
    "\n",
    "Controlled swaps (CSWAP) and controlled-X (CX) gates move the ball across possible paths.\n",
    "\n",
    "Reset operations clear qubits for reuse, avoiding entanglement issues.\n",
    "\n",
    "Finally, all position qubits are measured to get the distribution."
   ]
  },
  {
   "cell_type": "code",
   "execution_count": 3,
   "id": "f4774c44",
   "metadata": {},
   "outputs": [],
   "source": [
    "def build_exponential_qgb_explicit(n_levels, theta_list):\n",
    "    n_q = 2 * n_levels + 1\n",
    "    anc = QuantumRegister(1, \"a\")\n",
    "    q = QuantumRegister(n_q, \"q\")\n",
    "    c = ClassicalRegister(n_q, \"c\")\n",
    "    qc = QuantumCircuit(anc, q, c)\n",
    "\n",
    "    mid = n_q // 2\n",
    "    qc.x(q[mid])\n",
    "\n",
    "    peg_idx = 0\n",
    "    for level in range(n_levels):\n",
    "        start = mid - level\n",
    "        for peg in range(level + 1):\n",
    "            i = start + 2 * peg\n",
    "            qc.append(Reset(), [anc[0]])\n",
    "            qc.rx(theta_list[peg_idx], anc[0])\n",
    "            if i + 2 < len(q):\n",
    "                qc.append(CSwapGate(), [anc[0], q[i], q[i + 1]])\n",
    "                qc.cx(q[i + 1], anc[0])\n",
    "                qc.append(CSwapGate(), [anc[0], q[i + 1], q[i + 2]])\n",
    "                peg_idx += 1\n",
    "\n",
    "        if level < n_levels - 1:\n",
    "            for peg in range(level + 1):\n",
    "                i = start + 2 * peg + 2\n",
    "                j = i - 1\n",
    "                qc.cx(q[i], q[j])\n",
    "                qc.append(Reset(), [q[i]])\n",
    "\n",
    "    qc.measure(q, c)\n",
    "    return qc\n",
    "\n",
    "\n"
   ]
  },
  {
   "cell_type": "markdown",
   "id": "ec9ba0cc",
   "metadata": {},
   "source": [
    "The post_process_counts function converts raw quantum measurement results into a meaningful position distribution.\n",
    "\n",
    "In \"exp\" mode, it counts the positions where the ball ends up, relative to the center.\n",
    "\n",
    "In \"walk\" mode, it filters out unnecessary bits and counts the number of steps from the start.\n",
    "This gives us a histogram showing how the probability distribution looks after the simulation."
   ]
  },
  {
   "cell_type": "code",
   "execution_count": 4,
   "id": "4536cfca",
   "metadata": {},
   "outputs": [],
   "source": [
    "def post_process_counts(counts, n_qubits, mode=\"exp\"):\n",
    "    bin_counts = {}\n",
    "    for bitstring, count in counts.items():\n",
    "        b = bitstring[::-1]\n",
    "\n",
    "        if mode == \"exp\":\n",
    "            if b.count(\"1\") == 1:\n",
    "                i = b.index(\"1\")\n",
    "                rel_pos = i - (n_qubits // 2)\n",
    "                bin_counts[rel_pos] = bin_counts.get(rel_pos, 0) + count\n",
    "\n",
    "        elif mode == \"walk\":\n",
    "            filtered = ''.join([b[i] for i in range(0, n_qubits, 2)])\n",
    "            idx = filtered.count(\"1\")\n",
    "            bin_counts[idx] = bin_counts.get(idx, 0) + count\n",
    "\n",
    "    return dict(sorted(bin_counts.items()))"
   ]
  },
  {
   "cell_type": "markdown",
   "id": "9f1d32b4",
   "metadata": {},
   "source": [
    "The run_qgb function is the main execution wrapper.\n",
    "\n",
    "Generates theta values.\n",
    "\n",
    "Builds the quantum circuit.\n",
    "\n",
    "Transpiles it for the AerSimulator backend.\n",
    "\n",
    "Runs the simulation for a given number of shots.\n",
    "\n",
    "Post-processes results to extract position counts.\n",
    "\n",
    "Plots the histogram showing the simulated distribution.\n",
    "\n",
    "This function outputs both the circuit and the measurement results."
   ]
  },
  {
   "cell_type": "code",
   "execution_count": 5,
   "id": "3576cb83",
   "metadata": {},
   "outputs": [],
   "source": [
    "def run_qgb(mode=\"exp\", n_levels=4, shots=4096, lam=0.6):\n",
    "    theta_list = generate_theta_list(mode, n_levels, lam)\n",
    "    qc = build_exponential_qgb_explicit(n_levels, theta_list)\n",
    "    sim = AerSimulator()\n",
    "    tqc = transpile(qc, sim)\n",
    "    result = sim.run(tqc, shots=shots).result()\n",
    "    counts = result.get_counts()\n",
    "\n",
    "    bin_counts = post_process_counts(counts, qc.num_qubits - 1, mode)\n",
    "\n",
    "    plot_histogram(bin_counts)\n",
    "    plt.title(f\"{n_levels}-Level QGB ({mode.upper()} mode)\")\n",
    "    plt.xlabel(\"Position\")\n",
    "    plt.ylabel(\"Counts\")\n",
    "    plt.tight_layout()\n",
    "    plt.show()\n",
    "\n",
    "    return qc, counts, bin_counts\n",
    "\n",
    "\n"
   ]
  },
  {
   "cell_type": "markdown",
   "id": "238d4f02",
   "metadata": {},
   "source": [
    "This is the entry point when running the notebook as a script.\n",
    "\n",
    "First, runs the QGB in exponential mode with λ=0.8.\n",
    "\n",
    "Then runs the QGB in quantum walk mode (uniform probability).\n",
    "\n",
    "The two modes allow us to compare how the distribution changes under different peg collision rules."
   ]
  },
  {
   "cell_type": "code",
   "execution_count": 9,
   "id": "4fe07819",
   "metadata": {},
   "outputs": [
    {
     "name": "stdout",
     "output_type": "stream",
     "text": [
      "Exponential Distribution:\n"
     ]
    },
    {
     "data": {
      "image/png": "[encoded data removed]",
      "text/plain": [
       "<Figure size 640x480 with 1 Axes>"
      ]
     },
     "metadata": {},
     "output_type": "display_data"
    },
    {
     "name": "stdout",
     "output_type": "stream",
     "text": [
      "Quantum Walk Distribution:\n"
     ]
    },
    {
     "data": {
      "image/png": "[encoded data removed]",
      "text/plain": [
       "<Figure size 640x480 with 1 Axes>"
      ]
     },
     "metadata": {},
     "output_type": "display_data"
    }
   ],
   "source": [
    "if __name__ == \"__main__\":\n",
    "    print(\"Exponential Distribution:\")\n",
    "    run_qgb(mode=\"exp\", n_levels= 2 , shots=1024, lam=0.8)\n",
    "\n",
    "    print(\"Quantum Walk Distribution:\")\n",
    "    run_qgb(mode=\"walk\", n_levels=2, shots=1024)"
   ]
  },
  {
   "cell_type": "code",
   "execution_count": null,
   "id": "a22f0b0c",
   "metadata": {},
   "outputs": [],
   "source": []
  }
 ],
 "metadata": {
  "kernelspec": {
   "display_name": "quantum_venv",
   "language": "python",
   "name": "python3"
  },
  "language_info": {
   "codemirror_mode": {
    "name": "ipython",
    "version": 3
   },
   "file_extension": ".py",
   "mimetype": "text/x-python",
   "name": "python",
   "nbconvert_exporter": "python",
   "pygments_lexer": "ipython3",
   "version": "3.11.9"
  }
 },
 "nbformat": 4,
 "nbformat_minor": 5
}
