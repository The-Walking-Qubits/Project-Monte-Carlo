{
 "cells": [
  {
   "cell_type": "code",
   "execution_count": 1,
   "id": "6b0252e7",
   "metadata": {},
   "outputs": [],
   "source": [
    "from qiskit import QuantumCircuit, QuantumRegister, ClassicalRegister, transpile\n",
    "from qiskit.circuit.library import CSwapGate\n",
    "from qiskit_aer import AerSimulator\n",
    "from qiskit.visualization import plot_histogram\n",
    "import matplotlib.pyplot as plt\n",
    "from collections import Counter\n",
    "%matplotlib inline\n"
   ]
  },
  {
   "cell_type": "code",
   "execution_count": 10,
   "id": "ad7aa45c",
   "metadata": {},
   "outputs": [],
   "source": [
    "\n",
    "def build_qgb(n_levels: int) -> QuantumCircuit:\n",
    "    \n",
    "    L = n_levels\n",
    "    n_pos = 2 * L + 1            \n",
    "    center = L                   \n",
    "\n",
    "    \n",
    "    ancilla = QuantumRegister(1, \"ancilla\")        \n",
    "    qubit_pos  = QuantumRegister(n_pos, \"qubit_pos\")     \n",
    "    bin_indices = [i for i in range(n_pos) if (i - center) % 2 == 0]  \n",
    "    creg = ClassicalRegister(len(bin_indices), \"c\")\n",
    "\n",
    "    qc = QuantumCircuit(ancilla, qubit_pos, creg)\n",
    "\n",
    "    \n",
    "    qc.x(qubit_pos[center])\n",
    "\n",
    "   \n",
    "    for level in range(L):\n",
    "        \n",
    "        qc.reset(ancilla[0])\n",
    "        qc.h(ancilla[0])\n",
    "\n",
    "        \n",
    "        start = center - (level + 1)\n",
    "        end   = center + level\n",
    "        for j in range(start, end + 1):\n",
    "            \n",
    "            qc.append(CSwapGate(), [ancilla[0], qubit_pos[j], qubit_pos[j + 1]])\n",
    "\n",
    "            \n",
    "            qc.cx(qubit_pos[j + 1], ancilla[0])\n",
    "\n",
    "    \n",
    "    for k, i in enumerate(bin_indices):\n",
    "        qc.measure(qubit_pos[i], creg[k])\n",
    "\n",
    "    return qc, bin_indices\n",
    "\n",
    "\n"
   ]
  },
  {
   "cell_type": "code",
   "execution_count": 11,
   "id": "bc5afa48",
   "metadata": {},
   "outputs": [],
   "source": [
    "def post_process_bins(counts, n_levels, bin_indices):\n",
    "    \n",
    "    L = n_levels\n",
    "    bin_counts = Counter()\n",
    "    for bitstring, c in counts.items():\n",
    "        \n",
    "        bits = bitstring[::-1]\n",
    "        if bits.count('1') == 1:\n",
    "            b = bits.index('1')\n",
    "            bin_counts[b] += c\n",
    "    return dict(bin_counts)\n",
    "\n"
   ]
  },
  {
   "cell_type": "code",
   "execution_count": 15,
   "id": "28929be5",
   "metadata": {},
   "outputs": [
    {
     "name": "stdout",
     "output_type": "stream",
     "text": [
      "Processed (bin-index) counts: {8: 3, 0: 5, 4: 273, 5: 230, 3: 218, 6: 111, 7: 36, 1: 46, 2: 102}\n"
     ]
    },
    {
     "data": {
      "image/png": "[encoded data removed]",
      "text/plain": [
       "<Figure size 640x480 with 1 Axes>"
      ]
     },
     "metadata": {},
     "output_type": "display_data"
    }
   ],
   "source": [
    "def run_qgb(n_levels=8, shots=1024, draw=False):\n",
    "    qc, bin_indices = build_qgb(n_levels)\n",
    "    if draw:\n",
    "        display(qc.draw(\"mpl\"))\n",
    "\n",
    "    sim = AerSimulator()\n",
    "    tqc = transpile(qc, sim)\n",
    "    result = sim.run(tqc, shots=shots).result()\n",
    "    counts = result.get_counts()\n",
    "\n",
    "    bin_counts = post_process_bins(counts, n_levels, bin_indices)\n",
    "    print(\"Processed (bin-index) counts:\", bin_counts)\n",
    "\n",
    "    \n",
    "    labeled = {str(k): v for k, v in sorted(bin_counts.items())}\n",
    "    plot_histogram(labeled, sort='asc')\n",
    "    plt.title(f\"{n_levels}-Level / {n_levels+1}- QGB \")\n",
    "    plt.xlabel(\"Final Bin Index (0 .. n_levels)\")\n",
    "    plt.tight_layout()\n",
    "    plt.show()\n",
    "\n",
    "    return qc, counts, bin_counts\n",
    "\n",
    "# ---- example ----\n",
    "if __name__ == \"__main__\":\n",
    "    qc, counts, bin_counts = run_qgb_varcoe(n_levels= 8, shots = 1024, draw=False)"
   ]
  },
  {
   "cell_type": "code",
   "execution_count": null,
   "id": "af13ccfd",
   "metadata": {},
   "outputs": [],
   "source": []
  }
 ],
 "metadata": {
  "kernelspec": {
   "display_name": "quantum_venv",
   "language": "python",
   "name": "python3"
  },
  "language_info": {
   "codemirror_mode": {
    "name": "ipython",
    "version": 3
   },
   "file_extension": ".py",
   "mimetype": "text/x-python",
   "name": "python",
   "nbconvert_exporter": "python",
   "pygments_lexer": "ipython3",
   "version": "3.11.9"
  }
 },
 "nbformat": 4,
 "nbformat_minor": 5
}
